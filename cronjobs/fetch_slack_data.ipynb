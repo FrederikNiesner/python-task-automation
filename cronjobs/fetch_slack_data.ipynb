{
 "cells": [
  {
   "cell_type": "code",
   "execution_count": 1,
   "metadata": {
    "collapsed": true
   },
   "outputs": [
    {
     "name": "stdout",
     "output_type": "stream",
     "text": [
      "Collecting slackclient\r\n",
      "  Downloading slackclient-2.9.4-py2.py3-none-any.whl (97 kB)\r\n",
      "\u001B[2K     \u001B[90m━━━━━━━━━━━━━━━━━━━━━━━━━━━━━━━━━━━━━━━\u001B[0m \u001B[32m97.1/97.1 KB\u001B[0m \u001B[31m451.5 kB/s\u001B[0m eta \u001B[36m0:00:00\u001B[0ma \u001B[36m0:00:01\u001B[0m\r\n",
      "\u001B[?25hRequirement already satisfied: aiohttp<4.0.0,>3.5.2 in /Library/Frameworks/Python.framework/Versions/3.8/lib/python3.8/site-packages (from slackclient) (3.8.1)\r\n",
      "Requirement already satisfied: multidict<7.0,>=4.5 in /Library/Frameworks/Python.framework/Versions/3.8/lib/python3.8/site-packages (from aiohttp<4.0.0,>3.5.2->slackclient) (5.2.0)\r\n",
      "Requirement already satisfied: attrs>=17.3.0 in /Library/Frameworks/Python.framework/Versions/3.8/lib/python3.8/site-packages (from aiohttp<4.0.0,>3.5.2->slackclient) (19.3.0)\r\n",
      "Requirement already satisfied: frozenlist>=1.1.1 in /Library/Frameworks/Python.framework/Versions/3.8/lib/python3.8/site-packages (from aiohttp<4.0.0,>3.5.2->slackclient) (1.2.0)\r\n",
      "Requirement already satisfied: async-timeout<5.0,>=4.0.0a3 in /Library/Frameworks/Python.framework/Versions/3.8/lib/python3.8/site-packages (from aiohttp<4.0.0,>3.5.2->slackclient) (4.0.1)\r\n",
      "Requirement already satisfied: yarl<2.0,>=1.0 in /Library/Frameworks/Python.framework/Versions/3.8/lib/python3.8/site-packages (from aiohttp<4.0.0,>3.5.2->slackclient) (1.7.2)\r\n",
      "Requirement already satisfied: charset-normalizer<3.0,>=2.0 in /Library/Frameworks/Python.framework/Versions/3.8/lib/python3.8/site-packages (from aiohttp<4.0.0,>3.5.2->slackclient) (2.0.7)\r\n",
      "Requirement already satisfied: aiosignal>=1.1.2 in /Library/Frameworks/Python.framework/Versions/3.8/lib/python3.8/site-packages (from aiohttp<4.0.0,>3.5.2->slackclient) (1.2.0)\r\n",
      "Requirement already satisfied: typing-extensions>=3.6.5 in /Library/Frameworks/Python.framework/Versions/3.8/lib/python3.8/site-packages (from async-timeout<5.0,>=4.0.0a3->aiohttp<4.0.0,>3.5.2->slackclient) (3.10.0.0)\r\n",
      "Requirement already satisfied: idna>=2.0 in /Library/Frameworks/Python.framework/Versions/3.8/lib/python3.8/site-packages (from yarl<2.0,>=1.0->aiohttp<4.0.0,>3.5.2->slackclient) (2.10)\r\n",
      "Installing collected packages: slackclient\r\n",
      "Successfully installed slackclient-2.9.4\r\n"
     ]
    }
   ],
   "source": [
    "!pip install slackclient"
   ]
  },
  {
   "cell_type": "code",
   "execution_count": 2,
   "outputs": [
    {
     "name": "stderr",
     "output_type": "stream",
     "text": [
      "DEBUG:slack.web.base_client:Sending a request - url: https://www.slack.com/api/api.test, query_params: {}, body_params: {}, files: {}, json_body: {}, headers: {'Content-Type': 'application/json;charset=utf-8', 'User-Agent': 'Python/3.8.5 slackclient/2.9.4 Darwin/21.3.0'}\n",
      "DEBUG:slack.web.slack_response:Received the following response - status: 200, headers: {'date': 'Thu, 28 Apr 2022 12:50:19 GMT', 'server': 'Apache', 'x-powered-by': 'HHVM/4.153.1', 'access-control-allow-origin': '*', 'referrer-policy': 'no-referrer', 'x-slack-backend': 'r', 'strict-transport-security': 'max-age=31536000; includeSubDomains; preload', 'access-control-allow-headers': 'slack-route, x-slack-version-ts, x-b3-traceid, x-b3-spanid, x-b3-parentspanid, x-b3-sampled, x-b3-flags', 'access-control-expose-headers': 'x-slack-req-id, retry-after', 'expires': 'Mon, 26 Jul 1997 05:00:00 GMT', 'cache-control': 'private, no-cache, no-store, must-revalidate', 'pragma': 'no-cache', 'x-robots-tag': 'noindex,nofollow', 'x-xss-protection': '0', 'x-content-type-options': 'nosniff', 'x-slack-req-id': 'c38e38634071128b5bce5139e08ade99', 'vary': 'Accept-Encoding', 'content-type': 'application/json; charset=utf-8', 'x-envoy-upstream-service-time': '95', 'x-backend': 'main_normal main_bedrock_normal_with_overflow main_canary_with_overflow main_bedrock_canary_with_overflow main_control_with_overflow main_bedrock_control_with_overflow', 'x-server': 'slack-www-hhvm-main-iad-ywxq', 'x-slack-shared-secret-outcome': 'no-match', 'via': 'envoy-www-iad-vkd9, envoy-edge-fra-rpb4', 'x-edge-backend': 'envoy-www', 'x-slack-edge-shared-secret-outcome': 'no-match', 'connection': 'close', 'transfer-encoding': 'chunked'}, body: {'ok': True, 'args': {}}\n"
     ]
    }
   ],
   "source": [
    "# test.py\n",
    "import sys\n",
    "# Load the local source directly\n",
    "sys.path.insert(1, \"./python-slackclient\")\n",
    "# Enable debug logging\n",
    "import logging\n",
    "logging.basicConfig(level=logging.DEBUG)\n",
    "# Verify it works\n",
    "from slack import WebClient\n",
    "client = WebClient()\n",
    "api_response = client.api_test()"
   ],
   "metadata": {
    "collapsed": false,
    "pycharm": {
     "name": "#%%\n"
    }
   }
  },
  {
   "cell_type": "code",
   "execution_count": null,
   "outputs": [],
   "source": [],
   "metadata": {
    "collapsed": false,
    "pycharm": {
     "name": "#%%\n"
    }
   }
  }
 ],
 "metadata": {
  "kernelspec": {
   "display_name": "Python 3",
   "language": "python",
   "name": "python3"
  },
  "language_info": {
   "codemirror_mode": {
    "name": "ipython",
    "version": 2
   },
   "file_extension": ".py",
   "mimetype": "text/x-python",
   "name": "python",
   "nbconvert_exporter": "python",
   "pygments_lexer": "ipython2",
   "version": "2.7.6"
  }
 },
 "nbformat": 4,
 "nbformat_minor": 0
}